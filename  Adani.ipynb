{
 "cells": [
  {
   "cell_type": "code",
   "execution_count": 164,
   "metadata": {},
   "outputs": [],
   "source": [
    "import numpy as np\n",
    "import matplotlib.pyplot as plt\n",
    "import datetime\n",
    "import pandas as pd"
   ]
  },
  {
   "cell_type": "code",
   "execution_count": 165,
   "metadata": {},
   "outputs": [],
   "source": [
    "dataset =pd.read_csv(\"adani.csv\")"
   ]
  },
  {
   "cell_type": "code",
   "execution_count": 166,
   "metadata": {},
   "outputs": [
    {
     "data": {
      "text/html": [
       "<div>\n",
       "<style scoped>\n",
       "    .dataframe tbody tr th:only-of-type {\n",
       "        vertical-align: middle;\n",
       "    }\n",
       "\n",
       "    .dataframe tbody tr th {\n",
       "        vertical-align: top;\n",
       "    }\n",
       "\n",
       "    .dataframe thead th {\n",
       "        text-align: right;\n",
       "    }\n",
       "</style>\n",
       "<table border=\"1\" class=\"dataframe\">\n",
       "  <thead>\n",
       "    <tr style=\"text-align: right;\">\n",
       "      <th></th>\n",
       "      <th>date</th>\n",
       "      <th>open</th>\n",
       "      <th>high</th>\n",
       "      <th>low</th>\n",
       "      <th>close</th>\n",
       "      <th>volume</th>\n",
       "    </tr>\n",
       "  </thead>\n",
       "  <tbody>\n",
       "    <tr>\n",
       "      <th>0</th>\n",
       "      <td>2018-06-18</td>\n",
       "      <td>30.000000</td>\n",
       "      <td>31.500000</td>\n",
       "      <td>28.500000</td>\n",
       "      <td>31.500000</td>\n",
       "      <td>7006229</td>\n",
       "    </tr>\n",
       "    <tr>\n",
       "      <th>1</th>\n",
       "      <td>2018-06-19</td>\n",
       "      <td>32.700001</td>\n",
       "      <td>33.049999</td>\n",
       "      <td>31.000000</td>\n",
       "      <td>32.599998</td>\n",
       "      <td>2895692</td>\n",
       "    </tr>\n",
       "    <tr>\n",
       "      <th>2</th>\n",
       "      <td>2018-06-20</td>\n",
       "      <td>31.500000</td>\n",
       "      <td>32.200001</td>\n",
       "      <td>31.000000</td>\n",
       "      <td>31.000000</td>\n",
       "      <td>1115553</td>\n",
       "    </tr>\n",
       "    <tr>\n",
       "      <th>3</th>\n",
       "      <td>2018-06-21</td>\n",
       "      <td>29.450001</td>\n",
       "      <td>30.000000</td>\n",
       "      <td>29.450001</td>\n",
       "      <td>29.650000</td>\n",
       "      <td>2854524</td>\n",
       "    </tr>\n",
       "    <tr>\n",
       "      <th>4</th>\n",
       "      <td>2018-06-22</td>\n",
       "      <td>28.200001</td>\n",
       "      <td>29.799999</td>\n",
       "      <td>28.200001</td>\n",
       "      <td>29.450001</td>\n",
       "      <td>1612972</td>\n",
       "    </tr>\n",
       "  </tbody>\n",
       "</table>\n",
       "</div>"
      ],
      "text/plain": [
       "         date       open       high        low      close   volume\n",
       "0  2018-06-18  30.000000  31.500000  28.500000  31.500000  7006229\n",
       "1  2018-06-19  32.700001  33.049999  31.000000  32.599998  2895692\n",
       "2  2018-06-20  31.500000  32.200001  31.000000  31.000000  1115553\n",
       "3  2018-06-21  29.450001  30.000000  29.450001  29.650000  2854524\n",
       "4  2018-06-22  28.200001  29.799999  28.200001  29.450001  1612972"
      ]
     },
     "execution_count": 166,
     "metadata": {},
     "output_type": "execute_result"
    }
   ],
   "source": [
    "dataset.head()"
   ]
  },
  {
   "cell_type": "code",
   "execution_count": 167,
   "metadata": {},
   "outputs": [
    {
     "name": "stdout",
     "output_type": "stream",
     "text": [
      "<class 'pandas.core.frame.DataFrame'>\n",
      "RangeIndex: 669 entries, 0 to 668\n",
      "Data columns (total 6 columns):\n",
      " #   Column  Non-Null Count  Dtype  \n",
      "---  ------  --------------  -----  \n",
      " 0   date    669 non-null    object \n",
      " 1   open    669 non-null    float64\n",
      " 2   high    669 non-null    float64\n",
      " 3   low     669 non-null    float64\n",
      " 4   close   669 non-null    float64\n",
      " 5   volume  669 non-null    int64  \n",
      "dtypes: float64(4), int64(1), object(1)\n",
      "memory usage: 31.5+ KB\n"
     ]
    }
   ],
   "source": [
    "dataset.info()"
   ]
  },
  {
   "cell_type": "code",
   "execution_count": 168,
   "metadata": {},
   "outputs": [],
   "source": [
    "dataset['date']= pd.to_datetime(dataset['date'], infer_datetime_format=True)"
   ]
  },
  {
   "cell_type": "code",
   "execution_count": 169,
   "metadata": {},
   "outputs": [
    {
     "name": "stdout",
     "output_type": "stream",
     "text": [
      "<class 'pandas.core.frame.DataFrame'>\n",
      "RangeIndex: 669 entries, 0 to 668\n",
      "Data columns (total 6 columns):\n",
      " #   Column  Non-Null Count  Dtype         \n",
      "---  ------  --------------  -----         \n",
      " 0   date    669 non-null    datetime64[ns]\n",
      " 1   open    669 non-null    float64       \n",
      " 2   high    669 non-null    float64       \n",
      " 3   low     669 non-null    float64       \n",
      " 4   close   669 non-null    float64       \n",
      " 5   volume  669 non-null    int64         \n",
      "dtypes: datetime64[ns](1), float64(4), int64(1)\n",
      "memory usage: 31.5 KB\n"
     ]
    }
   ],
   "source": [
    "dataset.info()"
   ]
  },
  {
   "cell_type": "code",
   "execution_count": 170,
   "metadata": {},
   "outputs": [
    {
     "data": {
      "text/html": [
       "<div>\n",
       "<style scoped>\n",
       "    .dataframe tbody tr th:only-of-type {\n",
       "        vertical-align: middle;\n",
       "    }\n",
       "\n",
       "    .dataframe tbody tr th {\n",
       "        vertical-align: top;\n",
       "    }\n",
       "\n",
       "    .dataframe thead th {\n",
       "        text-align: right;\n",
       "    }\n",
       "</style>\n",
       "<table border=\"1\" class=\"dataframe\">\n",
       "  <thead>\n",
       "    <tr style=\"text-align: right;\">\n",
       "      <th></th>\n",
       "      <th>open</th>\n",
       "      <th>high</th>\n",
       "      <th>low</th>\n",
       "      <th>close</th>\n",
       "      <th>volume</th>\n",
       "    </tr>\n",
       "    <tr>\n",
       "      <th>date</th>\n",
       "      <th></th>\n",
       "      <th></th>\n",
       "      <th></th>\n",
       "      <th></th>\n",
       "      <th></th>\n",
       "    </tr>\n",
       "  </thead>\n",
       "  <tbody>\n",
       "    <tr>\n",
       "      <th>2018-06-18</th>\n",
       "      <td>30.000000</td>\n",
       "      <td>31.500000</td>\n",
       "      <td>28.500000</td>\n",
       "      <td>31.500000</td>\n",
       "      <td>7006229</td>\n",
       "    </tr>\n",
       "    <tr>\n",
       "      <th>2018-06-19</th>\n",
       "      <td>32.700001</td>\n",
       "      <td>33.049999</td>\n",
       "      <td>31.000000</td>\n",
       "      <td>32.599998</td>\n",
       "      <td>2895692</td>\n",
       "    </tr>\n",
       "    <tr>\n",
       "      <th>2018-06-20</th>\n",
       "      <td>31.500000</td>\n",
       "      <td>32.200001</td>\n",
       "      <td>31.000000</td>\n",
       "      <td>31.000000</td>\n",
       "      <td>1115553</td>\n",
       "    </tr>\n",
       "    <tr>\n",
       "      <th>2018-06-21</th>\n",
       "      <td>29.450001</td>\n",
       "      <td>30.000000</td>\n",
       "      <td>29.450001</td>\n",
       "      <td>29.650000</td>\n",
       "      <td>2854524</td>\n",
       "    </tr>\n",
       "    <tr>\n",
       "      <th>2018-06-22</th>\n",
       "      <td>28.200001</td>\n",
       "      <td>29.799999</td>\n",
       "      <td>28.200001</td>\n",
       "      <td>29.450001</td>\n",
       "      <td>1612972</td>\n",
       "    </tr>\n",
       "    <tr>\n",
       "      <th>...</th>\n",
       "      <td>...</td>\n",
       "      <td>...</td>\n",
       "      <td>...</td>\n",
       "      <td>...</td>\n",
       "      <td>...</td>\n",
       "    </tr>\n",
       "    <tr>\n",
       "      <th>2021-03-01</th>\n",
       "      <td>1170.000000</td>\n",
       "      <td>1170.000000</td>\n",
       "      <td>1130.150024</td>\n",
       "      <td>1141.000000</td>\n",
       "      <td>448402</td>\n",
       "    </tr>\n",
       "    <tr>\n",
       "      <th>2021-03-02</th>\n",
       "      <td>1155.000000</td>\n",
       "      <td>1175.000000</td>\n",
       "      <td>1134.000000</td>\n",
       "      <td>1164.849976</td>\n",
       "      <td>521226</td>\n",
       "    </tr>\n",
       "    <tr>\n",
       "      <th>2021-03-03</th>\n",
       "      <td>1178.900024</td>\n",
       "      <td>1190.000000</td>\n",
       "      <td>1162.050049</td>\n",
       "      <td>1176.300049</td>\n",
       "      <td>494659</td>\n",
       "    </tr>\n",
       "    <tr>\n",
       "      <th>2021-03-04</th>\n",
       "      <td>1176.000000</td>\n",
       "      <td>1198.000000</td>\n",
       "      <td>1165.000000</td>\n",
       "      <td>1184.650024</td>\n",
       "      <td>641914</td>\n",
       "    </tr>\n",
       "    <tr>\n",
       "      <th>2021-03-05</th>\n",
       "      <td>1178.900024</td>\n",
       "      <td>1206.000000</td>\n",
       "      <td>1162.000000</td>\n",
       "      <td>1172.750000</td>\n",
       "      <td>595718</td>\n",
       "    </tr>\n",
       "  </tbody>\n",
       "</table>\n",
       "<p>669 rows × 5 columns</p>\n",
       "</div>"
      ],
      "text/plain": [
       "                   open         high          low        close   volume\n",
       "date                                                                   \n",
       "2018-06-18    30.000000    31.500000    28.500000    31.500000  7006229\n",
       "2018-06-19    32.700001    33.049999    31.000000    32.599998  2895692\n",
       "2018-06-20    31.500000    32.200001    31.000000    31.000000  1115553\n",
       "2018-06-21    29.450001    30.000000    29.450001    29.650000  2854524\n",
       "2018-06-22    28.200001    29.799999    28.200001    29.450001  1612972\n",
       "...                 ...          ...          ...          ...      ...\n",
       "2021-03-01  1170.000000  1170.000000  1130.150024  1141.000000   448402\n",
       "2021-03-02  1155.000000  1175.000000  1134.000000  1164.849976   521226\n",
       "2021-03-03  1178.900024  1190.000000  1162.050049  1176.300049   494659\n",
       "2021-03-04  1176.000000  1198.000000  1165.000000  1184.650024   641914\n",
       "2021-03-05  1178.900024  1206.000000  1162.000000  1172.750000   595718\n",
       "\n",
       "[669 rows x 5 columns]"
      ]
     },
     "execution_count": 170,
     "metadata": {},
     "output_type": "execute_result"
    }
   ],
   "source": [
    "dataset.set_index('date')"
   ]
  },
  {
   "cell_type": "code",
   "execution_count": 173,
   "metadata": {},
   "outputs": [],
   "source": [
    "import matplotlib\n",
    "%matplotlib inline\n",
    "matplotlib.rcParams['figure.figsize']=[12.0,8.0]"
   ]
  },
  {
   "cell_type": "code",
   "execution_count": 174,
   "metadata": {},
   "outputs": [
    {
     "data": {
      "text/plain": [
       "array([<AxesSubplot:xlabel='date'>, <AxesSubplot:xlabel='date'>,\n",
       "       <AxesSubplot:xlabel='date'>, <AxesSubplot:xlabel='date'>,\n",
       "       <AxesSubplot:xlabel='date'>], dtype=object)"
      ]
     },
     "execution_count": 174,
     "metadata": {},
     "output_type": "execute_result"
    },
    {
     "data": {
      "image/png": "[encoded data removed]",
      "text/plain": [
       "<Figure size 864x576 with 5 Axes>"
      ]
     },
     "metadata": {
      "needs_background": "light"
     },
     "output_type": "display_data"
    }
   ],
   "source": [
    "dataset.set_index('date')[['open','high','low','close','volume']].plot(subplots=True)"
   ]
  },
  {
   "cell_type": "code",
   "execution_count": 175,
   "metadata": {},
   "outputs": [
    {
     "data": {
      "text/plain": [
       "date      0\n",
       "open      0\n",
       "high      0\n",
       "low       0\n",
       "close     0\n",
       "volume    0\n",
       "dtype: int64"
      ]
     },
     "execution_count": 175,
     "metadata": {},
     "output_type": "execute_result"
    }
   ],
   "source": [
    "dataset.isnull().sum()"
   ]
  },
  {
   "cell_type": "code",
   "execution_count": 176,
   "metadata": {},
   "outputs": [
    {
     "data": {
      "text/plain": [
       "<AxesSubplot:>"
      ]
     },
     "execution_count": 176,
     "metadata": {},
     "output_type": "execute_result"
    },
    {
     "data": {
      "image/png": "[encoded data removed]",
      "text/plain": [
       "<Figure size 1152x432 with 1 Axes>"
      ]
     },
     "metadata": {
      "needs_background": "light"
     },
     "output_type": "display_data"
    }
   ],
   "source": [
    "dataset['open'].plot(figsize=(16,6))"
   ]
  },
  {
   "cell_type": "code",
   "execution_count": 177,
   "metadata": {},
   "outputs": [],
   "source": [
    "dataset[\"volume\"]=dataset[\"volume\"].astype(float)"
   ]
  },
  {
   "cell_type": "code",
   "execution_count": 178,
   "metadata": {},
   "outputs": [
    {
     "name": "stdout",
     "output_type": "stream",
     "text": [
      "<class 'pandas.core.frame.DataFrame'>\n",
      "RangeIndex: 669 entries, 0 to 668\n",
      "Data columns (total 6 columns):\n",
      " #   Column  Non-Null Count  Dtype         \n",
      "---  ------  --------------  -----         \n",
      " 0   date    669 non-null    datetime64[ns]\n",
      " 1   open    669 non-null    float64       \n",
      " 2   high    669 non-null    float64       \n",
      " 3   low     669 non-null    float64       \n",
      " 4   close   669 non-null    float64       \n",
      " 5   volume  669 non-null    float64       \n",
      "dtypes: datetime64[ns](1), float64(5)\n",
      "memory usage: 31.5 KB\n"
     ]
    }
   ],
   "source": [
    "dataset.info()"
   ]
  },
  {
   "cell_type": "code",
   "execution_count": 179,
   "metadata": {},
   "outputs": [
    {
     "data": {
      "text/html": [
       "<div>\n",
       "<style scoped>\n",
       "    .dataframe tbody tr th:only-of-type {\n",
       "        vertical-align: middle;\n",
       "    }\n",
       "\n",
       "    .dataframe tbody tr th {\n",
       "        vertical-align: top;\n",
       "    }\n",
       "\n",
       "    .dataframe thead th {\n",
       "        text-align: right;\n",
       "    }\n",
       "</style>\n",
       "<table border=\"1\" class=\"dataframe\">\n",
       "  <thead>\n",
       "    <tr style=\"text-align: right;\">\n",
       "      <th></th>\n",
       "      <th>open</th>\n",
       "      <th>high</th>\n",
       "      <th>low</th>\n",
       "      <th>close</th>\n",
       "      <th>volume</th>\n",
       "    </tr>\n",
       "  </thead>\n",
       "  <tbody>\n",
       "    <tr>\n",
       "      <th>0</th>\n",
       "      <td>NaN</td>\n",
       "      <td>NaN</td>\n",
       "      <td>NaN</td>\n",
       "      <td>NaN</td>\n",
       "      <td>NaN</td>\n",
       "    </tr>\n",
       "    <tr>\n",
       "      <th>1</th>\n",
       "      <td>NaN</td>\n",
       "      <td>NaN</td>\n",
       "      <td>NaN</td>\n",
       "      <td>NaN</td>\n",
       "      <td>NaN</td>\n",
       "    </tr>\n",
       "    <tr>\n",
       "      <th>2</th>\n",
       "      <td>NaN</td>\n",
       "      <td>NaN</td>\n",
       "      <td>NaN</td>\n",
       "      <td>NaN</td>\n",
       "      <td>NaN</td>\n",
       "    </tr>\n",
       "    <tr>\n",
       "      <th>3</th>\n",
       "      <td>NaN</td>\n",
       "      <td>NaN</td>\n",
       "      <td>NaN</td>\n",
       "      <td>NaN</td>\n",
       "      <td>NaN</td>\n",
       "    </tr>\n",
       "    <tr>\n",
       "      <th>4</th>\n",
       "      <td>NaN</td>\n",
       "      <td>NaN</td>\n",
       "      <td>NaN</td>\n",
       "      <td>NaN</td>\n",
       "      <td>NaN</td>\n",
       "    </tr>\n",
       "    <tr>\n",
       "      <th>5</th>\n",
       "      <td>NaN</td>\n",
       "      <td>NaN</td>\n",
       "      <td>NaN</td>\n",
       "      <td>NaN</td>\n",
       "      <td>NaN</td>\n",
       "    </tr>\n",
       "    <tr>\n",
       "      <th>6</th>\n",
       "      <td>30.092857</td>\n",
       "      <td>30.850000</td>\n",
       "      <td>29.171429</td>\n",
       "      <td>30.278571</td>\n",
       "      <td>2.334957e+06</td>\n",
       "    </tr>\n",
       "    <tr>\n",
       "      <th>7</th>\n",
       "      <td>29.850000</td>\n",
       "      <td>30.392857</td>\n",
       "      <td>29.014286</td>\n",
       "      <td>29.692857</td>\n",
       "      <td>1.353126e+06</td>\n",
       "    </tr>\n",
       "    <tr>\n",
       "      <th>8</th>\n",
       "      <td>28.900000</td>\n",
       "      <td>29.392857</td>\n",
       "      <td>28.307143</td>\n",
       "      <td>28.757143</td>\n",
       "      <td>9.482536e+05</td>\n",
       "    </tr>\n",
       "    <tr>\n",
       "      <th>9</th>\n",
       "      <td>27.935714</td>\n",
       "      <td>28.700000</td>\n",
       "      <td>27.414286</td>\n",
       "      <td>28.157143</td>\n",
       "      <td>9.544410e+05</td>\n",
       "    </tr>\n",
       "    <tr>\n",
       "      <th>10</th>\n",
       "      <td>27.614286</td>\n",
       "      <td>28.307143</td>\n",
       "      <td>26.464285</td>\n",
       "      <td>27.521429</td>\n",
       "      <td>7.423369e+05</td>\n",
       "    </tr>\n",
       "    <tr>\n",
       "      <th>11</th>\n",
       "      <td>27.435714</td>\n",
       "      <td>27.900000</td>\n",
       "      <td>25.935714</td>\n",
       "      <td>27.078571</td>\n",
       "      <td>5.861449e+05</td>\n",
       "    </tr>\n",
       "    <tr>\n",
       "      <th>12</th>\n",
       "      <td>26.864286</td>\n",
       "      <td>27.892857</td>\n",
       "      <td>25.550000</td>\n",
       "      <td>27.171428</td>\n",
       "      <td>6.815151e+05</td>\n",
       "    </tr>\n",
       "    <tr>\n",
       "      <th>13</th>\n",
       "      <td>27.007143</td>\n",
       "      <td>28.257143</td>\n",
       "      <td>25.700000</td>\n",
       "      <td>27.314286</td>\n",
       "      <td>8.318471e+05</td>\n",
       "    </tr>\n",
       "    <tr>\n",
       "      <th>14</th>\n",
       "      <td>27.107143</td>\n",
       "      <td>28.628572</td>\n",
       "      <td>25.907143</td>\n",
       "      <td>27.735714</td>\n",
       "      <td>8.875700e+05</td>\n",
       "    </tr>\n",
       "    <tr>\n",
       "      <th>15</th>\n",
       "      <td>27.735715</td>\n",
       "      <td>29.392857</td>\n",
       "      <td>26.407143</td>\n",
       "      <td>28.435714</td>\n",
       "      <td>9.668744e+05</td>\n",
       "    </tr>\n",
       "    <tr>\n",
       "      <th>16</th>\n",
       "      <td>28.564286</td>\n",
       "      <td>30.035715</td>\n",
       "      <td>27.192857</td>\n",
       "      <td>29.050000</td>\n",
       "      <td>8.716810e+05</td>\n",
       "    </tr>\n",
       "    <tr>\n",
       "      <th>17</th>\n",
       "      <td>29.114286</td>\n",
       "      <td>30.914286</td>\n",
       "      <td>28.307143</td>\n",
       "      <td>30.014286</td>\n",
       "      <td>9.060166e+05</td>\n",
       "    </tr>\n",
       "    <tr>\n",
       "      <th>18</th>\n",
       "      <td>29.807143</td>\n",
       "      <td>31.764286</td>\n",
       "      <td>29.228571</td>\n",
       "      <td>30.692857</td>\n",
       "      <td>9.067130e+05</td>\n",
       "    </tr>\n",
       "    <tr>\n",
       "      <th>19</th>\n",
       "      <td>30.735714</td>\n",
       "      <td>32.157143</td>\n",
       "      <td>30.000000</td>\n",
       "      <td>30.957143</td>\n",
       "      <td>8.691957e+05</td>\n",
       "    </tr>\n",
       "  </tbody>\n",
       "</table>\n",
       "</div>"
      ],
      "text/plain": [
       "         open       high        low      close        volume\n",
       "0         NaN        NaN        NaN        NaN           NaN\n",
       "1         NaN        NaN        NaN        NaN           NaN\n",
       "2         NaN        NaN        NaN        NaN           NaN\n",
       "3         NaN        NaN        NaN        NaN           NaN\n",
       "4         NaN        NaN        NaN        NaN           NaN\n",
       "5         NaN        NaN        NaN        NaN           NaN\n",
       "6   30.092857  30.850000  29.171429  30.278571  2.334957e+06\n",
       "7   29.850000  30.392857  29.014286  29.692857  1.353126e+06\n",
       "8   28.900000  29.392857  28.307143  28.757143  9.482536e+05\n",
       "9   27.935714  28.700000  27.414286  28.157143  9.544410e+05\n",
       "10  27.614286  28.307143  26.464285  27.521429  7.423369e+05\n",
       "11  27.435714  27.900000  25.935714  27.078571  5.861449e+05\n",
       "12  26.864286  27.892857  25.550000  27.171428  6.815151e+05\n",
       "13  27.007143  28.257143  25.700000  27.314286  8.318471e+05\n",
       "14  27.107143  28.628572  25.907143  27.735714  8.875700e+05\n",
       "15  27.735715  29.392857  26.407143  28.435714  9.668744e+05\n",
       "16  28.564286  30.035715  27.192857  29.050000  8.716810e+05\n",
       "17  29.114286  30.914286  28.307143  30.014286  9.060166e+05\n",
       "18  29.807143  31.764286  29.228571  30.692857  9.067130e+05\n",
       "19  30.735714  32.157143  30.000000  30.957143  8.691957e+05"
      ]
     },
     "execution_count": 179,
     "metadata": {},
     "output_type": "execute_result"
    }
   ],
   "source": [
    "dataset.rolling(7).mean().head(20)"
   ]
  },
  {
   "cell_type": "code",
   "execution_count": 180,
   "metadata": {},
   "outputs": [
    {
     "data": {
      "text/plain": [
       "<AxesSubplot:>"
      ]
     },
     "execution_count": 180,
     "metadata": {},
     "output_type": "execute_result"
    },
    {
     "data": {
      "image/png": "[encoded data removed]",
      "text/plain": [
       "<Figure size 1152x432 with 1 Axes>"
      ]
     },
     "metadata": {
      "needs_background": "light"
     },
     "output_type": "display_data"
    }
   ],
   "source": [
    "dataset['open'].plot(figsize=(16,6))\n",
    "dataset.rolling(window=30).mean()['close'].plot()"
   ]
  },
  {
   "cell_type": "code",
   "execution_count": 181,
   "metadata": {},
   "outputs": [
    {
     "data": {
      "text/plain": [
       "<AxesSubplot:>"
      ]
     },
     "execution_count": 181,
     "metadata": {},
     "output_type": "execute_result"
    },
    {
     "data": {
      "image/png": "[encoded data removed]",
      "text/plain": [
       "<Figure size 1152x432 with 1 Axes>"
      ]
     },
     "metadata": {
      "needs_background": "light"
     },
     "output_type": "display_data"
    }
   ],
   "source": [
    "dataset['close: 30 day mean']= dataset['close'].rolling(window=30).mean()\n",
    "dataset[['close','close: 30 day mean']].plot(figsize=(16,6))"
   ]
  },
  {
   "cell_type": "code",
   "execution_count": 182,
   "metadata": {},
   "outputs": [
    {
     "data": {
      "text/plain": [
       "<AxesSubplot:>"
      ]
     },
     "execution_count": 182,
     "metadata": {},
     "output_type": "execute_result"
    },
    {
     "data": {
      "image/png": "[encoded data removed]",
      "text/plain": [
       "<Figure size 1152x432 with 1 Axes>"
      ]
     },
     "metadata": {
      "needs_background": "light"
     },
     "output_type": "display_data"
    }
   ],
   "source": [
    "dataset['close'].expanding(min_periods=1).mean().plot(figsize=(16,6))"
   ]
  },
  {
   "cell_type": "code",
   "execution_count": 183,
   "metadata": {},
   "outputs": [],
   "source": [
    "training_set=dataset['open']\n",
    "training_set=pd.DataFrame(training_set)"
   ]
  },
  {
   "cell_type": "code",
   "execution_count": 184,
   "metadata": {},
   "outputs": [],
   "source": [
    "from sklearn.preprocessing import MinMaxScaler\n",
    "sc = MinMaxScaler(feature_range = (0, 1))\n",
    "train_scaled = sc.fit_transform(training_set)"
   ]
  },
  {
   "cell_type": "code",
   "execution_count": 185,
   "metadata": {},
   "outputs": [],
   "source": [
    "X_train = []\n",
    "y_train = []\n",
    "for i in range(60, 669):\n",
    "    X_train.append(train_scaled[i-60:i, 0])\n",
    "    y_train.append(train_scaled[i, 0])\n",
    "    \n",
    "X_train, y_train = np.array(X_train), np.array(y_train)\n",
    "\n",
    "X_train = np.reshape(X_train, (X_train.shape[0], X_train.shape[1], 1))"
   ]
  },
  {
   "cell_type": "code",
   "execution_count": 186,
   "metadata": {},
   "outputs": [],
   "source": [
    "### Create the Stacked LSTM model\n",
    "from tensorflow.keras.models import Sequential\n",
    "from tensorflow.keras.layers import Dense\n",
    "from tensorflow.keras.layers import LSTM\n",
    "from tensorflow.keras.layers import Dropout"
   ]
  },
  {
   "cell_type": "code",
   "execution_count": 187,
   "metadata": {},
   "outputs": [],
   "source": [
    "regressor= Sequential()"
   ]
  },
  {
   "cell_type": "code",
   "execution_count": 188,
   "metadata": {},
   "outputs": [],
   "source": [
    "regressor.add(LSTM(units = 50, return_sequences = True, input_shape = (X_train.shape[1], 1)))\n",
    "regressor.add(Dropout(0.2))\n",
    "\n",
    "regressor.add(LSTM(units = 50, return_sequences = True))\n",
    "regressor.add(Dropout(0.2))\n",
    "\n",
    "regressor.add(LSTM(units = 50, return_sequences = True))\n",
    "regressor.add(Dropout(0.2))\n",
    "\n",
    "regressor.add(LSTM(units = 50))\n",
    "regressor.add(Dropout(0.2))\n",
    "\n",
    "regressor.add(Dense(units = 1))\n"
   ]
  },
  {
   "cell_type": "code",
   "execution_count": 189,
   "metadata": {},
   "outputs": [
    {
     "name": "stdout",
     "output_type": "stream",
     "text": [
      "Epoch 1/100\n",
      "20/20 [==============================] - 24s 154ms/step - loss: 0.0761\n",
      "Epoch 2/100\n",
      "20/20 [==============================] - 3s 142ms/step - loss: 0.0060\n",
      "Epoch 3/100\n",
      "20/20 [==============================] - 3s 136ms/step - loss: 0.0040\n",
      "Epoch 4/100\n",
      "20/20 [==============================] - 3s 141ms/step - loss: 0.0063\n",
      "Epoch 5/100\n",
      "20/20 [==============================] - 3s 133ms/step - loss: 0.0063\n",
      "Epoch 6/100\n",
      "20/20 [==============================] - 3s 134ms/step - loss: 0.0032\n",
      "Epoch 7/100\n",
      "20/20 [==============================] - 3s 143ms/step - loss: 0.0055\n",
      "Epoch 8/100\n",
      "20/20 [==============================] - 3s 141ms/step - loss: 0.0032\n",
      "Epoch 9/100\n",
      "20/20 [==============================] - 3s 141ms/step - loss: 0.0035\n",
      "Epoch 10/100\n",
      "20/20 [==============================] - 3s 140ms/step - loss: 0.0028\n",
      "Epoch 11/100\n",
      "20/20 [==============================] - 3s 140ms/step - loss: 0.0037\n",
      "Epoch 12/100\n",
      "20/20 [==============================] - 3s 137ms/step - loss: 0.0036\n",
      "Epoch 13/100\n",
      "20/20 [==============================] - 3s 141ms/step - loss: 0.0038\n",
      "Epoch 14/100\n",
      "20/20 [==============================] - 3s 134ms/step - loss: 0.0054\n",
      "Epoch 15/100\n",
      "20/20 [==============================] - 3s 150ms/step - loss: 0.0040\n",
      "Epoch 16/100\n",
      "20/20 [==============================] - 3s 148ms/step - loss: 0.0047\n",
      "Epoch 17/100\n",
      "20/20 [==============================] - 3s 140ms/step - loss: 0.0040\n",
      "Epoch 18/100\n",
      "20/20 [==============================] - 3s 141ms/step - loss: 0.0043\n",
      "Epoch 19/100\n",
      "20/20 [==============================] - 3s 143ms/step - loss: 0.0028\n",
      "Epoch 20/100\n",
      "20/20 [==============================] - 3s 155ms/step - loss: 0.0027\n",
      "Epoch 21/100\n",
      "20/20 [==============================] - 3s 147ms/step - loss: 0.0026\n",
      "Epoch 22/100\n",
      "20/20 [==============================] - 3s 139ms/step - loss: 0.0026\n",
      "Epoch 23/100\n",
      "20/20 [==============================] - 3s 140ms/step - loss: 0.0029\n",
      "Epoch 24/100\n",
      "20/20 [==============================] - 3s 140ms/step - loss: 0.0024\n",
      "Epoch 25/100\n",
      "20/20 [==============================] - 3s 163ms/step - loss: 0.0022\n",
      "Epoch 26/100\n",
      "20/20 [==============================] - 3s 138ms/step - loss: 0.0023\n",
      "Epoch 27/100\n",
      "20/20 [==============================] - 3s 137ms/step - loss: 0.0016\n",
      "Epoch 28/100\n",
      "20/20 [==============================] - 3s 138ms/step - loss: 0.0030\n",
      "Epoch 29/100\n",
      "20/20 [==============================] - 3s 144ms/step - loss: 0.0018\n",
      "Epoch 30/100\n",
      "20/20 [==============================] - 3s 146ms/step - loss: 0.0053\n",
      "Epoch 31/100\n",
      "20/20 [==============================] - 3s 158ms/step - loss: 0.0038\n",
      "Epoch 32/100\n",
      "20/20 [==============================] - 3s 139ms/step - loss: 0.0028\n",
      "Epoch 33/100\n",
      "20/20 [==============================] - 3s 137ms/step - loss: 0.0033\n",
      "Epoch 34/100\n",
      "20/20 [==============================] - 3s 136ms/step - loss: 0.0022\n",
      "Epoch 35/100\n",
      "20/20 [==============================] - 3s 141ms/step - loss: 0.0025\n",
      "Epoch 36/100\n",
      "20/20 [==============================] - 3s 145ms/step - loss: 0.0029\n",
      "Epoch 37/100\n",
      "20/20 [==============================] - 3s 139ms/step - loss: 0.0028\n",
      "Epoch 38/100\n",
      "20/20 [==============================] - 3s 142ms/step - loss: 0.0018\n",
      "Epoch 39/100\n",
      "20/20 [==============================] - 3s 140ms/step - loss: 0.0023\n",
      "Epoch 40/100\n",
      "20/20 [==============================] - 3s 143ms/step - loss: 0.0022\n",
      "Epoch 41/100\n",
      "20/20 [==============================] - 3s 141ms/step - loss: 0.0023\n",
      "Epoch 42/100\n",
      "20/20 [==============================] - 3s 139ms/step - loss: 0.0016\n",
      "Epoch 43/100\n",
      "20/20 [==============================] - 3s 145ms/step - loss: 0.0018\n",
      "Epoch 44/100\n",
      "20/20 [==============================] - 3s 144ms/step - loss: 0.0026\n",
      "Epoch 45/100\n",
      "20/20 [==============================] - 3s 145ms/step - loss: 0.0025\n",
      "Epoch 46/100\n",
      "20/20 [==============================] - 3s 139ms/step - loss: 0.0021\n",
      "Epoch 47/100\n",
      "20/20 [==============================] - 3s 139ms/step - loss: 0.0021\n",
      "Epoch 48/100\n",
      "20/20 [==============================] - 3s 152ms/step - loss: 0.0023\n",
      "Epoch 49/100\n",
      "20/20 [==============================] - 3s 146ms/step - loss: 0.0014\n",
      "Epoch 50/100\n",
      "20/20 [==============================] - 3s 145ms/step - loss: 0.0023\n",
      "Epoch 51/100\n",
      "20/20 [==============================] - 3s 143ms/step - loss: 0.0020\n",
      "Epoch 52/100\n",
      "20/20 [==============================] - 3s 142ms/step - loss: 0.0019\n",
      "Epoch 53/100\n",
      "20/20 [==============================] - 3s 142ms/step - loss: 0.0034\n",
      "Epoch 54/100\n",
      "20/20 [==============================] - 3s 147ms/step - loss: 0.0019\n",
      "Epoch 55/100\n",
      "20/20 [==============================] - 3s 145ms/step - loss: 0.0020\n",
      "Epoch 56/100\n",
      "20/20 [==============================] - 3s 145ms/step - loss: 0.0023\n",
      "Epoch 57/100\n",
      "20/20 [==============================] - 3s 144ms/step - loss: 0.0041\n",
      "Epoch 58/100\n",
      "20/20 [==============================] - 3s 145ms/step - loss: 0.0025\n",
      "Epoch 59/100\n",
      "20/20 [==============================] - 3s 147ms/step - loss: 0.0018\n",
      "Epoch 60/100\n",
      "20/20 [==============================] - 3s 146ms/step - loss: 0.0017\n",
      "Epoch 61/100\n",
      "20/20 [==============================] - 3s 144ms/step - loss: 0.0017\n",
      "Epoch 62/100\n",
      "20/20 [==============================] - 3s 145ms/step - loss: 0.0013\n",
      "Epoch 63/100\n",
      "20/20 [==============================] - 3s 144ms/step - loss: 0.0019\n",
      "Epoch 64/100\n",
      "20/20 [==============================] - 3s 149ms/step - loss: 0.0021\n",
      "Epoch 65/100\n",
      "20/20 [==============================] - 3s 144ms/step - loss: 0.0014\n",
      "Epoch 66/100\n",
      "20/20 [==============================] - 3s 142ms/step - loss: 0.0051\n",
      "Epoch 67/100\n",
      "20/20 [==============================] - 3s 142ms/step - loss: 0.0025\n",
      "Epoch 68/100\n",
      "20/20 [==============================] - 3s 145ms/step - loss: 0.0018\n",
      "Epoch 69/100\n",
      "20/20 [==============================] - 4s 189ms/step - loss: 0.0017\n",
      "Epoch 70/100\n",
      "20/20 [==============================] - 3s 150ms/step - loss: 0.0018\n",
      "Epoch 71/100\n",
      "20/20 [==============================] - 3s 143ms/step - loss: 0.0015\n",
      "Epoch 72/100\n",
      "20/20 [==============================] - 3s 148ms/step - loss: 0.0019\n",
      "Epoch 73/100\n",
      "20/20 [==============================] - 3s 150ms/step - loss: 0.0020\n",
      "Epoch 74/100\n",
      "20/20 [==============================] - 3s 143ms/step - loss: 0.0015\n",
      "Epoch 75/100\n",
      "20/20 [==============================] - 3s 142ms/step - loss: 0.0026\n",
      "Epoch 76/100\n",
      "20/20 [==============================] - 3s 144ms/step - loss: 0.0016\n",
      "Epoch 77/100\n",
      "20/20 [==============================] - 3s 139ms/step - loss: 0.0092\n",
      "Epoch 78/100\n",
      "20/20 [==============================] - 3s 144ms/step - loss: 0.0031\n",
      "Epoch 79/100\n",
      "20/20 [==============================] - 3s 151ms/step - loss: 0.0020\n",
      "Epoch 80/100\n",
      "20/20 [==============================] - 3s 144ms/step - loss: 0.0023\n",
      "Epoch 81/100\n",
      "20/20 [==============================] - 3s 142ms/step - loss: 0.0018\n",
      "Epoch 82/100\n",
      "20/20 [==============================] - 3s 140ms/step - loss: 0.0016\n",
      "Epoch 83/100\n",
      "20/20 [==============================] - 3s 142ms/step - loss: 0.0026\n",
      "Epoch 84/100\n",
      "20/20 [==============================] - 3s 142ms/step - loss: 0.0026\n",
      "Epoch 85/100\n",
      "20/20 [==============================] - 3s 146ms/step - loss: 0.0018\n",
      "Epoch 86/100\n",
      "20/20 [==============================] - 3s 145ms/step - loss: 0.0021\n",
      "Epoch 87/100\n",
      "20/20 [==============================] - 3s 144ms/step - loss: 0.0015\n",
      "Epoch 88/100\n",
      "20/20 [==============================] - 3s 147ms/step - loss: 0.0016\n",
      "Epoch 89/100\n",
      "20/20 [==============================] - 3s 144ms/step - loss: 0.0019\n",
      "Epoch 90/100\n",
      "20/20 [==============================] - 3s 151ms/step - loss: 0.0017\n",
      "Epoch 91/100\n",
      "20/20 [==============================] - 3s 147ms/step - loss: 0.0014\n",
      "Epoch 92/100\n",
      "20/20 [==============================] - 3s 142ms/step - loss: 0.0015\n",
      "Epoch 93/100\n",
      "20/20 [==============================] - 3s 140ms/step - loss: 0.0019\n",
      "Epoch 94/100\n",
      "20/20 [==============================] - 3s 162ms/step - loss: 0.0014\n",
      "Epoch 95/100\n",
      "20/20 [==============================] - 3s 171ms/step - loss: 0.0017\n",
      "Epoch 96/100\n",
      "20/20 [==============================] - 3s 152ms/step - loss: 0.0018\n",
      "Epoch 97/100\n",
      "20/20 [==============================] - 3s 152ms/step - loss: 0.0027\n",
      "Epoch 98/100\n",
      "20/20 [==============================] - 3s 154ms/step - loss: 0.0018\n",
      "Epoch 99/100\n"
     ]
    },
    {
     "name": "stdout",
     "output_type": "stream",
     "text": [
      "20/20 [==============================] - 3s 156ms/step - loss: 0.0014\n",
      "Epoch 100/100\n",
      "20/20 [==============================] - 3s 145ms/step - loss: 0.0015\n"
     ]
    },
    {
     "data": {
      "text/plain": [
       "<tensorflow.python.keras.callbacks.History at 0x292b2b32910>"
      ]
     },
     "execution_count": 189,
     "metadata": {},
     "output_type": "execute_result"
    }
   ],
   "source": [
    "regressor.compile(optimizer = 'adam', loss = 'mean_squared_error')\n",
    "\n",
    "regressor.fit(X_train, y_train, epochs = 100, batch_size = 32)"
   ]
  },
  {
   "cell_type": "code",
   "execution_count": 190,
   "metadata": {},
   "outputs": [],
   "source": [
    "df_test =pd.read_csv(\"adani.csv\")"
   ]
  },
  {
   "cell_type": "code",
   "execution_count": 191,
   "metadata": {},
   "outputs": [],
   "source": [
    "df1=df.iloc[:132]"
   ]
  },
  {
   "cell_type": "code",
   "execution_count": 192,
   "metadata": {},
   "outputs": [
    {
     "data": {
      "text/html": [
       "<div>\n",
       "<style scoped>\n",
       "    .dataframe tbody tr th:only-of-type {\n",
       "        vertical-align: middle;\n",
       "    }\n",
       "\n",
       "    .dataframe tbody tr th {\n",
       "        vertical-align: top;\n",
       "    }\n",
       "\n",
       "    .dataframe thead th {\n",
       "        text-align: right;\n",
       "    }\n",
       "</style>\n",
       "<table border=\"1\" class=\"dataframe\">\n",
       "  <thead>\n",
       "    <tr style=\"text-align: right;\">\n",
       "      <th></th>\n",
       "      <th>date</th>\n",
       "      <th>open</th>\n",
       "      <th>high</th>\n",
       "      <th>low</th>\n",
       "      <th>close</th>\n",
       "      <th>volume</th>\n",
       "    </tr>\n",
       "  </thead>\n",
       "  <tbody>\n",
       "    <tr>\n",
       "      <th>0</th>\n",
       "      <td>2018-06-18</td>\n",
       "      <td>30.000000</td>\n",
       "      <td>31.500000</td>\n",
       "      <td>28.500000</td>\n",
       "      <td>31.500000</td>\n",
       "      <td>7006229</td>\n",
       "    </tr>\n",
       "    <tr>\n",
       "      <th>1</th>\n",
       "      <td>2018-06-19</td>\n",
       "      <td>32.700001</td>\n",
       "      <td>33.049999</td>\n",
       "      <td>31.000000</td>\n",
       "      <td>32.599998</td>\n",
       "      <td>2895692</td>\n",
       "    </tr>\n",
       "    <tr>\n",
       "      <th>2</th>\n",
       "      <td>2018-06-20</td>\n",
       "      <td>31.500000</td>\n",
       "      <td>32.200001</td>\n",
       "      <td>31.000000</td>\n",
       "      <td>31.000000</td>\n",
       "      <td>1115553</td>\n",
       "    </tr>\n",
       "    <tr>\n",
       "      <th>3</th>\n",
       "      <td>2018-06-21</td>\n",
       "      <td>29.450001</td>\n",
       "      <td>30.000000</td>\n",
       "      <td>29.450001</td>\n",
       "      <td>29.650000</td>\n",
       "      <td>2854524</td>\n",
       "    </tr>\n",
       "    <tr>\n",
       "      <th>4</th>\n",
       "      <td>2018-06-22</td>\n",
       "      <td>28.200001</td>\n",
       "      <td>29.799999</td>\n",
       "      <td>28.200001</td>\n",
       "      <td>29.450001</td>\n",
       "      <td>1612972</td>\n",
       "    </tr>\n",
       "    <tr>\n",
       "      <th>...</th>\n",
       "      <td>...</td>\n",
       "      <td>...</td>\n",
       "      <td>...</td>\n",
       "      <td>...</td>\n",
       "      <td>...</td>\n",
       "      <td>...</td>\n",
       "    </tr>\n",
       "    <tr>\n",
       "      <th>127</th>\n",
       "      <td>2018-12-24</td>\n",
       "      <td>42.500000</td>\n",
       "      <td>43.200001</td>\n",
       "      <td>42.000000</td>\n",
       "      <td>42.150002</td>\n",
       "      <td>174059</td>\n",
       "    </tr>\n",
       "    <tr>\n",
       "      <th>128</th>\n",
       "      <td>2018-12-26</td>\n",
       "      <td>42.200001</td>\n",
       "      <td>42.400002</td>\n",
       "      <td>40.150002</td>\n",
       "      <td>41.549999</td>\n",
       "      <td>517905</td>\n",
       "    </tr>\n",
       "    <tr>\n",
       "      <th>129</th>\n",
       "      <td>2018-12-27</td>\n",
       "      <td>41.750000</td>\n",
       "      <td>42.700001</td>\n",
       "      <td>41.250000</td>\n",
       "      <td>41.450001</td>\n",
       "      <td>212220</td>\n",
       "    </tr>\n",
       "    <tr>\n",
       "      <th>130</th>\n",
       "      <td>2018-12-28</td>\n",
       "      <td>42.000000</td>\n",
       "      <td>42.549999</td>\n",
       "      <td>41.549999</td>\n",
       "      <td>41.700001</td>\n",
       "      <td>233894</td>\n",
       "    </tr>\n",
       "    <tr>\n",
       "      <th>131</th>\n",
       "      <td>2018-12-31</td>\n",
       "      <td>41.750000</td>\n",
       "      <td>42.299999</td>\n",
       "      <td>41.700001</td>\n",
       "      <td>41.849998</td>\n",
       "      <td>211687</td>\n",
       "    </tr>\n",
       "  </tbody>\n",
       "</table>\n",
       "<p>132 rows × 6 columns</p>\n",
       "</div>"
      ],
      "text/plain": [
       "           date       open       high        low      close   volume\n",
       "0    2018-06-18  30.000000  31.500000  28.500000  31.500000  7006229\n",
       "1    2018-06-19  32.700001  33.049999  31.000000  32.599998  2895692\n",
       "2    2018-06-20  31.500000  32.200001  31.000000  31.000000  1115553\n",
       "3    2018-06-21  29.450001  30.000000  29.450001  29.650000  2854524\n",
       "4    2018-06-22  28.200001  29.799999  28.200001  29.450001  1612972\n",
       "..          ...        ...        ...        ...        ...      ...\n",
       "127  2018-12-24  42.500000  43.200001  42.000000  42.150002   174059\n",
       "128  2018-12-26  42.200001  42.400002  40.150002  41.549999   517905\n",
       "129  2018-12-27  41.750000  42.700001  41.250000  41.450001   212220\n",
       "130  2018-12-28  42.000000  42.549999  41.549999  41.700001   233894\n",
       "131  2018-12-31  41.750000  42.299999  41.700001  41.849998   211687\n",
       "\n",
       "[132 rows x 6 columns]"
      ]
     },
     "execution_count": 192,
     "metadata": {},
     "output_type": "execute_result"
    }
   ],
   "source": [
    "df1"
   ]
  },
  {
   "cell_type": "code",
   "execution_count": 193,
   "metadata": {},
   "outputs": [],
   "source": [
    "real_stock_price=df1.iloc[:, 1:2].values"
   ]
  },
  {
   "cell_type": "code",
   "execution_count": 194,
   "metadata": {},
   "outputs": [
    {
     "name": "stdout",
     "output_type": "stream",
     "text": [
      "<class 'pandas.core.frame.DataFrame'>\n",
      "RangeIndex: 132 entries, 0 to 131\n",
      "Data columns (total 6 columns):\n",
      " #   Column  Non-Null Count  Dtype  \n",
      "---  ------  --------------  -----  \n",
      " 0   date    132 non-null    object \n",
      " 1   open    132 non-null    float64\n",
      " 2   high    132 non-null    float64\n",
      " 3   low     132 non-null    float64\n",
      " 4   close   132 non-null    float64\n",
      " 5   volume  132 non-null    int64  \n",
      "dtypes: float64(4), int64(1), object(1)\n",
      "memory usage: 6.3+ KB\n"
     ]
    }
   ],
   "source": [
    "df1.info()"
   ]
  },
  {
   "cell_type": "code",
   "execution_count": 195,
   "metadata": {},
   "outputs": [
    {
     "name": "stderr",
     "output_type": "stream",
     "text": [
      "<ipython-input-195-ce51cf8950ce>:1: SettingWithCopyWarning: \n",
      "A value is trying to be set on a copy of a slice from a DataFrame.\n",
      "Try using .loc[row_indexer,col_indexer] = value instead\n",
      "\n",
      "See the caveats in the documentation: https://pandas.pydata.org/pandas-docs/stable/user_guide/indexing.html#returning-a-view-versus-a-copy\n",
      "  df1[\"volume\"]=df1[\"volume\"].astype(float)\n"
     ]
    }
   ],
   "source": [
    "df1[\"volume\"]=df1[\"volume\"].astype(float)"
   ]
  },
  {
   "cell_type": "code",
   "execution_count": 196,
   "metadata": {},
   "outputs": [
    {
     "name": "stdout",
     "output_type": "stream",
     "text": [
      "<class 'pandas.core.frame.DataFrame'>\n",
      "RangeIndex: 132 entries, 0 to 131\n",
      "Data columns (total 6 columns):\n",
      " #   Column  Non-Null Count  Dtype  \n",
      "---  ------  --------------  -----  \n",
      " 0   date    132 non-null    object \n",
      " 1   open    132 non-null    float64\n",
      " 2   high    132 non-null    float64\n",
      " 3   low     132 non-null    float64\n",
      " 4   close   132 non-null    float64\n",
      " 5   volume  132 non-null    float64\n",
      "dtypes: float64(5), object(1)\n",
      "memory usage: 6.3+ KB\n"
     ]
    }
   ],
   "source": [
    "df1.info()"
   ]
  },
  {
   "cell_type": "code",
   "execution_count": 197,
   "metadata": {},
   "outputs": [
    {
     "data": {
      "text/plain": [
       "(132, 6)"
      ]
     },
     "execution_count": 197,
     "metadata": {},
     "output_type": "execute_result"
    }
   ],
   "source": [
    "df1.shape"
   ]
  },
  {
   "cell_type": "code",
   "execution_count": 198,
   "metadata": {},
   "outputs": [],
   "source": [
    "dataset_total = pd.concat((dataset['open'], df1['open']), axis = 0)\n",
    "inputs = dataset_total[len(dataset_total) - len(dataset_test) - 60:].values\n",
    "inputs = inputs.reshape(-1,1)\n",
    "inputs = sc.transform(inputs)\n",
    "X_test = []\n",
    "for i in range(60,132):\n",
    "    X_test.append(inputs[i-60:i, 0])\n",
    "X_test = np.array(X_test)\n",
    "X_test = np.reshape(X_test, (X_test.shape[0], X_test.shape[1], 1))\n",
    "predicted_stock_price = regressor.predict(X_test)\n",
    "predicted_stock_price = sc.inverse_transform(predicted_stock_price)"
   ]
  },
  {
   "cell_type": "code",
   "execution_count": 199,
   "metadata": {},
   "outputs": [
    {
     "data": {
      "image/png": "[encoded data removed]",
      "text/plain": [
       "<Figure size 864x576 with 1 Axes>"
      ]
     },
     "metadata": {
      "needs_background": "light"
     },
     "output_type": "display_data"
    }
   ],
   "source": [
    "plt.plot(real_stock_price, color = 'black', label = 'TATA Stock Price')\n",
    "plt.plot(predicted_stock_price, color = 'green', label = 'Predicted TATA Stock Price')\n",
    "plt.title('TATA Stock Price Prediction')\n",
    "plt.xlabel('Time')\n",
    "plt.ylabel('TATA Stock Pric e')\n",
    "plt.legend()\n",
    "plt.show()"
   ]
  }
 ],
 "metadata": {
  "kernelspec": {
   "display_name": "Python 3",
   "language": "python",
   "name": "python3"
  },
  "language_info": {
   "codemirror_mode": {
    "name": "ipython",
    "version": 3
   },
   "file_extension": ".py",
   "mimetype": "text/x-python",
   "name": "python",
   "nbconvert_exporter": "python",
   "pygments_lexer": "ipython3",
   "version": "3.8.5"
  }
 },
 "nbformat": 4,
 "nbformat_minor": 4
}
