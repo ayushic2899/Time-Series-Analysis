{
 "cells": [
  {
   "cell_type": "code",
   "execution_count": 1,
   "metadata": {},
   "outputs": [],
   "source": [
    "#importing the libraries\n",
    "import numpy as np\n",
    "import matplotlib.pyplot as plt\n",
    "import datetime\n",
    "import pandas as pd"
   ]
  },
  {
   "cell_type": "code",
   "execution_count": 2,
   "metadata": {},
   "outputs": [],
   "source": [
    "#Loading the dataset\n",
    "dataset =pd.read_csv(\"adani.csv\")"
   ]
  },
  {
   "cell_type": "code",
   "execution_count": 3,
   "metadata": {},
   "outputs": [
    {
     "data": {
      "text/html": [
       "<div>\n",
       "<style scoped>\n",
       "    .dataframe tbody tr th:only-of-type {\n",
       "        vertical-align: middle;\n",
       "    }\n",
       "\n",
       "    .dataframe tbody tr th {\n",
       "        vertical-align: top;\n",
       "    }\n",
       "\n",
       "    .dataframe thead th {\n",
       "        text-align: right;\n",
       "    }\n",
       "</style>\n",
       "<table border=\"1\" class=\"dataframe\">\n",
       "  <thead>\n",
       "    <tr style=\"text-align: right;\">\n",
       "      <th></th>\n",
       "      <th>date</th>\n",
       "      <th>open</th>\n",
       "      <th>high</th>\n",
       "      <th>low</th>\n",
       "      <th>close</th>\n",
       "      <th>volume</th>\n",
       "    </tr>\n",
       "  </thead>\n",
       "  <tbody>\n",
       "    <tr>\n",
       "      <th>0</th>\n",
       "      <td>2018-06-18</td>\n",
       "      <td>30.000000</td>\n",
       "      <td>31.500000</td>\n",
       "      <td>28.500000</td>\n",
       "      <td>31.500000</td>\n",
       "      <td>7006229</td>\n",
       "    </tr>\n",
       "    <tr>\n",
       "      <th>1</th>\n",
       "      <td>2018-06-19</td>\n",
       "      <td>32.700001</td>\n",
       "      <td>33.049999</td>\n",
       "      <td>31.000000</td>\n",
       "      <td>32.599998</td>\n",
       "      <td>2895692</td>\n",
       "    </tr>\n",
       "    <tr>\n",
       "      <th>2</th>\n",
       "      <td>2018-06-20</td>\n",
       "      <td>31.500000</td>\n",
       "      <td>32.200001</td>\n",
       "      <td>31.000000</td>\n",
       "      <td>31.000000</td>\n",
       "      <td>1115553</td>\n",
       "    </tr>\n",
       "    <tr>\n",
       "      <th>3</th>\n",
       "      <td>2018-06-21</td>\n",
       "      <td>29.450001</td>\n",
       "      <td>30.000000</td>\n",
       "      <td>29.450001</td>\n",
       "      <td>29.650000</td>\n",
       "      <td>2854524</td>\n",
       "    </tr>\n",
       "    <tr>\n",
       "      <th>4</th>\n",
       "      <td>2018-06-22</td>\n",
       "      <td>28.200001</td>\n",
       "      <td>29.799999</td>\n",
       "      <td>28.200001</td>\n",
       "      <td>29.450001</td>\n",
       "      <td>1612972</td>\n",
       "    </tr>\n",
       "  </tbody>\n",
       "</table>\n",
       "</div>"
      ],
      "text/plain": [
       "         date       open       high        low      close   volume\n",
       "0  2018-06-18  30.000000  31.500000  28.500000  31.500000  7006229\n",
       "1  2018-06-19  32.700001  33.049999  31.000000  32.599998  2895692\n",
       "2  2018-06-20  31.500000  32.200001  31.000000  31.000000  1115553\n",
       "3  2018-06-21  29.450001  30.000000  29.450001  29.650000  2854524\n",
       "4  2018-06-22  28.200001  29.799999  28.200001  29.450001  1612972"
      ]
     },
     "execution_count": 3,
     "metadata": {},
     "output_type": "execute_result"
    }
   ],
   "source": [
    "dataset.head()"
   ]
  },
  {
   "cell_type": "code",
   "execution_count": 4,
   "metadata": {},
   "outputs": [],
   "source": [
    "#to_datetime function for converting \"date\" object data type into datetime data type\n",
    "dataset['date']= pd.to_datetime(dataset['date'], infer_datetime_format=True)"
   ]
  },
  {
   "cell_type": "code",
   "execution_count": 5,
   "metadata": {},
   "outputs": [
    {
     "name": "stdout",
     "output_type": "stream",
     "text": [
      "<class 'pandas.core.frame.DataFrame'>\n",
      "RangeIndex: 669 entries, 0 to 668\n",
      "Data columns (total 6 columns):\n",
      " #   Column  Non-Null Count  Dtype         \n",
      "---  ------  --------------  -----         \n",
      " 0   date    669 non-null    datetime64[ns]\n",
      " 1   open    669 non-null    float64       \n",
      " 2   high    669 non-null    float64       \n",
      " 3   low     669 non-null    float64       \n",
      " 4   close   669 non-null    float64       \n",
      " 5   volume  669 non-null    int64         \n",
      "dtypes: datetime64[ns](1), float64(4), int64(1)\n",
      "memory usage: 31.5 KB\n"
     ]
    }
   ],
   "source": [
    "dataset.info()"
   ]
  },
  {
   "cell_type": "code",
   "execution_count": 6,
   "metadata": {},
   "outputs": [
    {
     "data": {
      "text/html": [
       "<div>\n",
       "<style scoped>\n",
       "    .dataframe tbody tr th:only-of-type {\n",
       "        vertical-align: middle;\n",
       "    }\n",
       "\n",
       "    .dataframe tbody tr th {\n",
       "        vertical-align: top;\n",
       "    }\n",
       "\n",
       "    .dataframe thead th {\n",
       "        text-align: right;\n",
       "    }\n",
       "</style>\n",
       "<table border=\"1\" class=\"dataframe\">\n",
       "  <thead>\n",
       "    <tr style=\"text-align: right;\">\n",
       "      <th></th>\n",
       "      <th>open</th>\n",
       "      <th>high</th>\n",
       "      <th>low</th>\n",
       "      <th>close</th>\n",
       "      <th>volume</th>\n",
       "    </tr>\n",
       "    <tr>\n",
       "      <th>date</th>\n",
       "      <th></th>\n",
       "      <th></th>\n",
       "      <th></th>\n",
       "      <th></th>\n",
       "      <th></th>\n",
       "    </tr>\n",
       "  </thead>\n",
       "  <tbody>\n",
       "    <tr>\n",
       "      <th>2018-06-18</th>\n",
       "      <td>30.000000</td>\n",
       "      <td>31.500000</td>\n",
       "      <td>28.500000</td>\n",
       "      <td>31.500000</td>\n",
       "      <td>7006229</td>\n",
       "    </tr>\n",
       "    <tr>\n",
       "      <th>2018-06-19</th>\n",
       "      <td>32.700001</td>\n",
       "      <td>33.049999</td>\n",
       "      <td>31.000000</td>\n",
       "      <td>32.599998</td>\n",
       "      <td>2895692</td>\n",
       "    </tr>\n",
       "    <tr>\n",
       "      <th>2018-06-20</th>\n",
       "      <td>31.500000</td>\n",
       "      <td>32.200001</td>\n",
       "      <td>31.000000</td>\n",
       "      <td>31.000000</td>\n",
       "      <td>1115553</td>\n",
       "    </tr>\n",
       "    <tr>\n",
       "      <th>2018-06-21</th>\n",
       "      <td>29.450001</td>\n",
       "      <td>30.000000</td>\n",
       "      <td>29.450001</td>\n",
       "      <td>29.650000</td>\n",
       "      <td>2854524</td>\n",
       "    </tr>\n",
       "    <tr>\n",
       "      <th>2018-06-22</th>\n",
       "      <td>28.200001</td>\n",
       "      <td>29.799999</td>\n",
       "      <td>28.200001</td>\n",
       "      <td>29.450001</td>\n",
       "      <td>1612972</td>\n",
       "    </tr>\n",
       "    <tr>\n",
       "      <th>...</th>\n",
       "      <td>...</td>\n",
       "      <td>...</td>\n",
       "      <td>...</td>\n",
       "      <td>...</td>\n",
       "      <td>...</td>\n",
       "    </tr>\n",
       "    <tr>\n",
       "      <th>2021-03-01</th>\n",
       "      <td>1170.000000</td>\n",
       "      <td>1170.000000</td>\n",
       "      <td>1130.150024</td>\n",
       "      <td>1141.000000</td>\n",
       "      <td>448402</td>\n",
       "    </tr>\n",
       "    <tr>\n",
       "      <th>2021-03-02</th>\n",
       "      <td>1155.000000</td>\n",
       "      <td>1175.000000</td>\n",
       "      <td>1134.000000</td>\n",
       "      <td>1164.849976</td>\n",
       "      <td>521226</td>\n",
       "    </tr>\n",
       "    <tr>\n",
       "      <th>2021-03-03</th>\n",
       "      <td>1178.900024</td>\n",
       "      <td>1190.000000</td>\n",
       "      <td>1162.050049</td>\n",
       "      <td>1176.300049</td>\n",
       "      <td>494659</td>\n",
       "    </tr>\n",
       "    <tr>\n",
       "      <th>2021-03-04</th>\n",
       "      <td>1176.000000</td>\n",
       "      <td>1198.000000</td>\n",
       "      <td>1165.000000</td>\n",
       "      <td>1184.650024</td>\n",
       "      <td>641914</td>\n",
       "    </tr>\n",
       "    <tr>\n",
       "      <th>2021-03-05</th>\n",
       "      <td>1178.900024</td>\n",
       "      <td>1206.000000</td>\n",
       "      <td>1162.000000</td>\n",
       "      <td>1172.750000</td>\n",
       "      <td>595718</td>\n",
       "    </tr>\n",
       "  </tbody>\n",
       "</table>\n",
       "<p>669 rows × 5 columns</p>\n",
       "</div>"
      ],
      "text/plain": [
       "                   open         high          low        close   volume\n",
       "date                                                                   \n",
       "2018-06-18    30.000000    31.500000    28.500000    31.500000  7006229\n",
       "2018-06-19    32.700001    33.049999    31.000000    32.599998  2895692\n",
       "2018-06-20    31.500000    32.200001    31.000000    31.000000  1115553\n",
       "2018-06-21    29.450001    30.000000    29.450001    29.650000  2854524\n",
       "2018-06-22    28.200001    29.799999    28.200001    29.450001  1612972\n",
       "...                 ...          ...          ...          ...      ...\n",
       "2021-03-01  1170.000000  1170.000000  1130.150024  1141.000000   448402\n",
       "2021-03-02  1155.000000  1175.000000  1134.000000  1164.849976   521226\n",
       "2021-03-03  1178.900024  1190.000000  1162.050049  1176.300049   494659\n",
       "2021-03-04  1176.000000  1198.000000  1165.000000  1184.650024   641914\n",
       "2021-03-05  1178.900024  1206.000000  1162.000000  1172.750000   595718\n",
       "\n",
       "[669 rows x 5 columns]"
      ]
     },
     "execution_count": 6,
     "metadata": {},
     "output_type": "execute_result"
    }
   ],
   "source": [
    "#setting data column as a index\n",
    "dataset.set_index('date')"
   ]
  },
  {
   "cell_type": "code",
   "execution_count": 11,
   "metadata": {},
   "outputs": [],
   "source": [
    "import matplotlib\n",
    "%matplotlib inline\n",
    "matplotlib.rcParams['figure.figsize']=[12.0,8.0]"
   ]
  },
  {
   "cell_type": "markdown",
   "metadata": {},
   "source": [
    "# Additive Decomposition"
   ]
  },
  {
   "cell_type": "markdown",
   "metadata": {},
   "source": [
    "We can create a time series comprised of a linearly increasing trend from 1 to 99 and some random noise and decompose it as an additive model."
   ]
  },
  {
   "cell_type": "code",
   "execution_count": 35,
   "metadata": {},
   "outputs": [
    {
     "data": {
      "text/plain": [
       "Text(0, 0.5, 'Residual')"
      ]
     },
     "execution_count": 35,
     "metadata": {},
     "output_type": "execute_result"
    },
    {
     "data": {
      "image/png": "[encoded data removed]",
      "text/plain": [
       "<Figure size 864x576 with 4 Axes>"
      ]
     },
     "metadata": {
      "needs_background": "light"
     },
     "output_type": "display_data"
    }
   ],
   "source": [
    "from random import randrange\n",
    "from pandas import Series\n",
    "from matplotlib import pyplot\n",
    "from statsmodels.tsa.seasonal import seasonal_decompose\n",
    "series = [i+randrange(10) for i in range(1,100)]\n",
    "result = seasonal_decompose(dataset['open'], model='additive', period=1)\n",
    " \n",
    "fig, axes = plt.subplots(4, 1, sharex=True)\n",
    "\n",
    "result.observed.plot(ax=axes[0], legend=False, color='k')\n",
    "axes[0].set_ylabel('Observed')\n",
    "result.trend.plot(ax=axes[1], legend=False, color='r')\n",
    "axes[1].set_ylabel('Trend')\n",
    "result.seasonal.plot(ax=axes[2], legend=False, color='g')\n",
    "axes[2].set_ylabel('Seasonal')\n",
    "result.resid.plot(ax=axes[3], legend=False, color='b')\n",
    "axes[3].set_ylabel('Residual')"
   ]
  },
  {
   "cell_type": "markdown",
   "metadata": {},
   "source": [
    "We can see that the entire series was taken as the trend component and that there was no seasonality."
   ]
  },
  {
   "cell_type": "markdown",
   "metadata": {},
   "source": [
    "We can also see that the residual plot shows zero. This is a good example where the naive, or classical, decomposition was not able to separate the noise that we added from the linear trend."
   ]
  },
  {
   "cell_type": "markdown",
   "metadata": {},
   "source": [
    "# Multiplicative Decomposition"
   ]
  },
  {
   "cell_type": "markdown",
   "metadata": {},
   "source": [
    "We can contrive a quadratic time series as a square of the time step from 1 to 99, and then decompose it assuming a multiplicative model."
   ]
  },
  {
   "cell_type": "code",
   "execution_count": 41,
   "metadata": {},
   "outputs": [
    {
     "data": {
      "text/plain": [
       "Text(0, 0.5, 'Residual')"
      ]
     },
     "execution_count": 41,
     "metadata": {},
     "output_type": "execute_result"
    },
    {
     "data": {
      "image/png": "[encoded data removed]",
      "text/plain": [
       "<Figure size 864x576 with 4 Axes>"
      ]
     },
     "metadata": {
      "needs_background": "light"
     },
     "output_type": "display_data"
    }
   ],
   "source": [
    "from pandas import Series\n",
    "from matplotlib import pyplot\n",
    "from statsmodels.tsa.seasonal import seasonal_decompose\n",
    "series = [i**2.0 for i in range(1,100)]\n",
    "result = seasonal_decompose(dataset['open'], model='multiplicative', period=1)\n",
    "\n",
    "fig, axes = plt.subplots(4, 1, sharex=True)\n",
    "\n",
    "result.observed.plot(ax=axes[0], legend=False, color='k')\n",
    "axes[0].set_ylabel('Observed')\n",
    "result.trend.plot(ax=axes[1], legend=False, color='r')\n",
    "axes[1].set_ylabel('Trend')\n",
    "result.seasonal.plot(ax=axes[2], legend=False, color='g')\n",
    "axes[2].set_ylabel('Seasonal')\n",
    "result.resid.plot(ax=axes[3], legend=False, color='b')\n",
    "axes[3].set_ylabel('Residual')"
   ]
  }
 ],
 "metadata": {
  "kernelspec": {
   "display_name": "Python 3",
   "language": "python",
   "name": "python3"
  },
  "language_info": {
   "codemirror_mode": {
    "name": "ipython",
    "version": 3
   },
   "file_extension": ".py",
   "mimetype": "text/x-python",
   "name": "python",
   "nbconvert_exporter": "python",
   "pygments_lexer": "ipython3",
   "version": "3.8.5"
  }
 },
 "nbformat": 4,
 "nbformat_minor": 4
}
